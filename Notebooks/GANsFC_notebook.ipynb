{
  "cells": [
    {
      "cell_type": "markdown",
      "metadata": {
        "id": "view-in-github",
        "colab_type": "text"
      },
      "source": [
        "<a href=\"https://colab.research.google.com/github/cabamarcos/GANs_VA/blob/main/Notebooks/GANsFC_notebook.ipynb\" target=\"_parent\"><img src=\"https://colab.research.google.com/assets/colab-badge.svg\" alt=\"Open In Colab\"/></a>"
      ]
    },
    {
      "cell_type": "code",
      "execution_count": 1,
      "metadata": {
        "id": "jRt3eZClR1N3"
      },
      "outputs": [],
      "source": [
        "import torch\n",
        "import torch.nn as nn\n",
        "import torch.optim as optim\n",
        "import torchvision\n",
        "import torchvision.datasets as datasets\n",
        "from torch.utils.data import DataLoader\n",
        "import torchvision.transforms as transforms\n",
        "from torch.utils.tensorboard import SummaryWriter  # to print to tensorboard\n"
      ]
    },
    {
      "cell_type": "code",
      "execution_count": 2,
      "metadata": {
        "id": "G2LxTPSgR1N7"
      },
      "outputs": [],
      "source": [
        "class Discriminator(nn.Module):\n",
        "    def __init__(self, in_features):\n",
        "        super().__init__()\n",
        "        self.disc = nn.Sequential(\n",
        "            nn.Linear(in_features, 128),\n",
        "            nn.LeakyReLU(0.01),\n",
        "            nn.Linear(128, 1),\n",
        "            nn.Sigmoid(),\n",
        "        )\n",
        "\n",
        "    def forward(self, x):\n",
        "        return self.disc(x)\n",
        "\n",
        "\n",
        "class Generator(nn.Module):\n",
        "    def __init__(self, z_dim, img_dim):\n",
        "        super().__init__()\n",
        "        self.gen = nn.Sequential(\n",
        "            nn.Linear(z_dim, 256),\n",
        "            nn.LeakyReLU(0.01),\n",
        "            nn.Linear(256, img_dim),\n",
        "            nn.Tanh(),  # normalize inputs to [-1, 1] so make outputs [-1, 1]\n",
        "        )\n",
        "\n",
        "    def forward(self, x):\n",
        "        return self.gen(x)\n",
        "\n"
      ]
    },
    {
      "cell_type": "code",
      "execution_count": 3,
      "metadata": {
        "colab": {
          "base_uri": "https://localhost:8080/"
        },
        "id": "0YtHumdvR1N8",
        "outputId": "074117f9-662d-47c8-9e35-609fb3b9b245"
      },
      "outputs": [
        {
          "output_type": "stream",
          "name": "stdout",
          "text": [
            "Using cuda\n"
          ]
        }
      ],
      "source": [
        "# Hyperparameters etc.\n",
        "device = \"cuda\" if torch.cuda.is_available() else \"cpu\"\n",
        "print(\"Using\", device)\n",
        "lr = 3e-4\n",
        "z_dim = 64\n",
        "image_dim = 28 * 28 * 1  # 784\n",
        "batch_size = 32\n",
        "num_epochs = 200"
      ]
    },
    {
      "cell_type": "code",
      "execution_count": 4,
      "metadata": {
        "id": "jsWeRo5ER1N-"
      },
      "outputs": [],
      "source": [
        "disc = Discriminator(image_dim).to(device)\n",
        "gen = Generator(z_dim, image_dim).to(device)\n",
        "fixed_noise = torch.randn((batch_size, z_dim)).to(device)\n",
        "transforms = transforms.Compose(\n",
        "    [\n",
        "        transforms.ToTensor(),\n",
        "        transforms.Normalize((0.5,), (0.5,)),\n",
        "    ]\n",
        ")"
      ]
    },
    {
      "cell_type": "code",
      "execution_count": 5,
      "metadata": {
        "colab": {
          "base_uri": "https://localhost:8080/"
        },
        "id": "gJ6iBv3eR1N_",
        "outputId": "e67b9bf2-aefd-4224-8e69-5f19a4a3b51a"
      },
      "outputs": [
        {
          "output_type": "stream",
          "name": "stdout",
          "text": [
            "Downloading http://yann.lecun.com/exdb/mnist/train-images-idx3-ubyte.gz\n",
            "Failed to download (trying next):\n",
            "HTTP Error 403: Forbidden\n",
            "\n",
            "Downloading https://ossci-datasets.s3.amazonaws.com/mnist/train-images-idx3-ubyte.gz\n",
            "Downloading https://ossci-datasets.s3.amazonaws.com/mnist/train-images-idx3-ubyte.gz to dataset/MNIST/raw/train-images-idx3-ubyte.gz\n"
          ]
        },
        {
          "output_type": "stream",
          "name": "stderr",
          "text": [
            "100%|██████████| 9912422/9912422 [00:02<00:00, 4513179.42it/s]\n"
          ]
        },
        {
          "output_type": "stream",
          "name": "stdout",
          "text": [
            "Extracting dataset/MNIST/raw/train-images-idx3-ubyte.gz to dataset/MNIST/raw\n",
            "\n",
            "Downloading http://yann.lecun.com/exdb/mnist/train-labels-idx1-ubyte.gz\n",
            "Failed to download (trying next):\n",
            "HTTP Error 403: Forbidden\n",
            "\n",
            "Downloading https://ossci-datasets.s3.amazonaws.com/mnist/train-labels-idx1-ubyte.gz\n",
            "Downloading https://ossci-datasets.s3.amazonaws.com/mnist/train-labels-idx1-ubyte.gz to dataset/MNIST/raw/train-labels-idx1-ubyte.gz\n"
          ]
        },
        {
          "output_type": "stream",
          "name": "stderr",
          "text": [
            "100%|██████████| 28881/28881 [00:00<00:00, 65322.65it/s]\n"
          ]
        },
        {
          "output_type": "stream",
          "name": "stdout",
          "text": [
            "Extracting dataset/MNIST/raw/train-labels-idx1-ubyte.gz to dataset/MNIST/raw\n",
            "\n",
            "Downloading http://yann.lecun.com/exdb/mnist/t10k-images-idx3-ubyte.gz\n",
            "Failed to download (trying next):\n",
            "HTTP Error 403: Forbidden\n",
            "\n",
            "Downloading https://ossci-datasets.s3.amazonaws.com/mnist/t10k-images-idx3-ubyte.gz\n",
            "Downloading https://ossci-datasets.s3.amazonaws.com/mnist/t10k-images-idx3-ubyte.gz to dataset/MNIST/raw/t10k-images-idx3-ubyte.gz\n"
          ]
        },
        {
          "output_type": "stream",
          "name": "stderr",
          "text": [
            "100%|██████████| 1648877/1648877 [00:01<00:00, 1274925.38it/s]\n"
          ]
        },
        {
          "output_type": "stream",
          "name": "stdout",
          "text": [
            "Extracting dataset/MNIST/raw/t10k-images-idx3-ubyte.gz to dataset/MNIST/raw\n",
            "\n",
            "Downloading http://yann.lecun.com/exdb/mnist/t10k-labels-idx1-ubyte.gz\n",
            "Failed to download (trying next):\n",
            "HTTP Error 403: Forbidden\n",
            "\n",
            "Downloading https://ossci-datasets.s3.amazonaws.com/mnist/t10k-labels-idx1-ubyte.gz\n",
            "Downloading https://ossci-datasets.s3.amazonaws.com/mnist/t10k-labels-idx1-ubyte.gz to dataset/MNIST/raw/t10k-labels-idx1-ubyte.gz\n"
          ]
        },
        {
          "output_type": "stream",
          "name": "stderr",
          "text": [
            "100%|██████████| 4542/4542 [00:00<00:00, 8815607.94it/s]"
          ]
        },
        {
          "output_type": "stream",
          "name": "stdout",
          "text": [
            "Extracting dataset/MNIST/raw/t10k-labels-idx1-ubyte.gz to dataset/MNIST/raw\n",
            "\n"
          ]
        },
        {
          "output_type": "stream",
          "name": "stderr",
          "text": [
            "\n"
          ]
        }
      ],
      "source": [
        "dataset = datasets.MNIST(root=\"dataset/\", transform=transforms, download=True)\n",
        "loader = DataLoader(dataset, batch_size=batch_size, shuffle=True)\n",
        "opt_disc = optim.Adam(disc.parameters(), lr=lr)\n",
        "opt_gen = optim.Adam(gen.parameters(), lr=lr)\n",
        "criterion = nn.BCELoss()\n",
        "writer_fake = SummaryWriter(f\"logsFC/fake\")\n",
        "writer_real = SummaryWriter(f\"logsFC/real\")"
      ]
    },
    {
      "cell_type": "code",
      "execution_count": 6,
      "metadata": {
        "colab": {
          "base_uri": "https://localhost:8080/"
        },
        "id": "yzBSifTtR1OA",
        "outputId": "76e07a80-a620-42eb-803a-98246881ce70"
      },
      "outputs": [
        {
          "output_type": "stream",
          "name": "stdout",
          "text": [
            "Epoch [0/200] Batch 0/1875                       Loss D: 0.6923, loss G: 0.7115\n",
            "Epoch [1/200] Batch 0/1875                       Loss D: 0.4433, loss G: 1.0912\n",
            "Epoch [2/200] Batch 0/1875                       Loss D: 0.8214, loss G: 0.6405\n",
            "Epoch [3/200] Batch 0/1875                       Loss D: 0.5993, loss G: 0.8929\n",
            "Epoch [4/200] Batch 0/1875                       Loss D: 0.2309, loss G: 1.8760\n",
            "Epoch [5/200] Batch 0/1875                       Loss D: 0.5633, loss G: 1.0580\n",
            "Epoch [6/200] Batch 0/1875                       Loss D: 0.7037, loss G: 0.8422\n",
            "Epoch [7/200] Batch 0/1875                       Loss D: 0.7244, loss G: 1.0120\n",
            "Epoch [8/200] Batch 0/1875                       Loss D: 0.3592, loss G: 1.4201\n",
            "Epoch [9/200] Batch 0/1875                       Loss D: 0.6019, loss G: 1.4477\n",
            "Epoch [10/200] Batch 0/1875                       Loss D: 0.6120, loss G: 1.2648\n",
            "Epoch [11/200] Batch 0/1875                       Loss D: 0.8125, loss G: 0.8698\n",
            "Epoch [12/200] Batch 0/1875                       Loss D: 0.4585, loss G: 1.5055\n",
            "Epoch [13/200] Batch 0/1875                       Loss D: 0.6018, loss G: 1.5150\n",
            "Epoch [14/200] Batch 0/1875                       Loss D: 0.4167, loss G: 1.6487\n",
            "Epoch [15/200] Batch 0/1875                       Loss D: 0.5490, loss G: 1.2310\n",
            "Epoch [16/200] Batch 0/1875                       Loss D: 0.8858, loss G: 0.9132\n",
            "Epoch [17/200] Batch 0/1875                       Loss D: 0.6574, loss G: 1.3662\n",
            "Epoch [18/200] Batch 0/1875                       Loss D: 0.4172, loss G: 2.0145\n",
            "Epoch [19/200] Batch 0/1875                       Loss D: 0.7273, loss G: 1.5861\n",
            "Epoch [20/200] Batch 0/1875                       Loss D: 0.5566, loss G: 1.8737\n",
            "Epoch [21/200] Batch 0/1875                       Loss D: 0.7021, loss G: 1.5739\n",
            "Epoch [22/200] Batch 0/1875                       Loss D: 0.5132, loss G: 1.1871\n",
            "Epoch [23/200] Batch 0/1875                       Loss D: 0.5457, loss G: 1.5353\n",
            "Epoch [24/200] Batch 0/1875                       Loss D: 0.6160, loss G: 1.2458\n",
            "Epoch [25/200] Batch 0/1875                       Loss D: 0.4383, loss G: 1.2690\n",
            "Epoch [26/200] Batch 0/1875                       Loss D: 0.5442, loss G: 2.0178\n",
            "Epoch [27/200] Batch 0/1875                       Loss D: 0.7496, loss G: 0.8892\n",
            "Epoch [28/200] Batch 0/1875                       Loss D: 0.6420, loss G: 1.3630\n",
            "Epoch [29/200] Batch 0/1875                       Loss D: 0.6048, loss G: 1.6735\n",
            "Epoch [30/200] Batch 0/1875                       Loss D: 0.5909, loss G: 1.4976\n",
            "Epoch [31/200] Batch 0/1875                       Loss D: 0.5908, loss G: 1.1302\n",
            "Epoch [32/200] Batch 0/1875                       Loss D: 0.5069, loss G: 1.2981\n",
            "Epoch [33/200] Batch 0/1875                       Loss D: 0.6559, loss G: 1.1738\n",
            "Epoch [34/200] Batch 0/1875                       Loss D: 0.6467, loss G: 1.2948\n",
            "Epoch [35/200] Batch 0/1875                       Loss D: 0.7146, loss G: 1.2554\n",
            "Epoch [36/200] Batch 0/1875                       Loss D: 0.6423, loss G: 0.8655\n",
            "Epoch [37/200] Batch 0/1875                       Loss D: 0.5309, loss G: 1.2568\n",
            "Epoch [38/200] Batch 0/1875                       Loss D: 0.5526, loss G: 1.2588\n",
            "Epoch [39/200] Batch 0/1875                       Loss D: 0.6320, loss G: 1.3165\n",
            "Epoch [40/200] Batch 0/1875                       Loss D: 0.5258, loss G: 1.4130\n",
            "Epoch [41/200] Batch 0/1875                       Loss D: 0.7593, loss G: 0.8309\n",
            "Epoch [42/200] Batch 0/1875                       Loss D: 0.7610, loss G: 1.0819\n",
            "Epoch [43/200] Batch 0/1875                       Loss D: 0.6202, loss G: 1.2266\n",
            "Epoch [44/200] Batch 0/1875                       Loss D: 0.5948, loss G: 1.3042\n",
            "Epoch [45/200] Batch 0/1875                       Loss D: 0.4828, loss G: 1.2532\n",
            "Epoch [46/200] Batch 0/1875                       Loss D: 0.8817, loss G: 0.7315\n",
            "Epoch [47/200] Batch 0/1875                       Loss D: 0.5589, loss G: 1.1302\n",
            "Epoch [48/200] Batch 0/1875                       Loss D: 0.6520, loss G: 0.8929\n",
            "Epoch [49/200] Batch 0/1875                       Loss D: 0.5833, loss G: 1.1200\n",
            "Epoch [50/200] Batch 0/1875                       Loss D: 0.6599, loss G: 1.2092\n",
            "Epoch [51/200] Batch 0/1875                       Loss D: 0.6270, loss G: 1.3768\n",
            "Epoch [52/200] Batch 0/1875                       Loss D: 0.6376, loss G: 1.1197\n",
            "Epoch [53/200] Batch 0/1875                       Loss D: 0.6739, loss G: 1.0261\n",
            "Epoch [54/200] Batch 0/1875                       Loss D: 0.6280, loss G: 1.2254\n",
            "Epoch [55/200] Batch 0/1875                       Loss D: 0.7612, loss G: 1.0947\n",
            "Epoch [56/200] Batch 0/1875                       Loss D: 0.5400, loss G: 1.2854\n",
            "Epoch [57/200] Batch 0/1875                       Loss D: 0.6437, loss G: 1.1108\n",
            "Epoch [58/200] Batch 0/1875                       Loss D: 0.6778, loss G: 0.8897\n",
            "Epoch [59/200] Batch 0/1875                       Loss D: 0.6982, loss G: 0.9410\n",
            "Epoch [60/200] Batch 0/1875                       Loss D: 0.7554, loss G: 0.8414\n",
            "Epoch [61/200] Batch 0/1875                       Loss D: 0.6127, loss G: 0.9126\n",
            "Epoch [62/200] Batch 0/1875                       Loss D: 0.6847, loss G: 0.7405\n",
            "Epoch [63/200] Batch 0/1875                       Loss D: 0.6688, loss G: 0.9109\n",
            "Epoch [64/200] Batch 0/1875                       Loss D: 0.6423, loss G: 0.9376\n",
            "Epoch [65/200] Batch 0/1875                       Loss D: 0.5806, loss G: 1.0043\n",
            "Epoch [66/200] Batch 0/1875                       Loss D: 0.7218, loss G: 0.9135\n",
            "Epoch [67/200] Batch 0/1875                       Loss D: 0.6480, loss G: 0.8004\n",
            "Epoch [68/200] Batch 0/1875                       Loss D: 0.6042, loss G: 0.8588\n",
            "Epoch [69/200] Batch 0/1875                       Loss D: 0.6535, loss G: 0.9285\n",
            "Epoch [70/200] Batch 0/1875                       Loss D: 0.6109, loss G: 1.0556\n",
            "Epoch [71/200] Batch 0/1875                       Loss D: 0.6567, loss G: 0.9851\n",
            "Epoch [72/200] Batch 0/1875                       Loss D: 0.6036, loss G: 0.8942\n",
            "Epoch [73/200] Batch 0/1875                       Loss D: 0.5839, loss G: 0.9166\n",
            "Epoch [74/200] Batch 0/1875                       Loss D: 0.5697, loss G: 0.8772\n",
            "Epoch [75/200] Batch 0/1875                       Loss D: 0.6444, loss G: 1.0762\n",
            "Epoch [76/200] Batch 0/1875                       Loss D: 0.6297, loss G: 0.8246\n",
            "Epoch [77/200] Batch 0/1875                       Loss D: 0.5526, loss G: 1.0532\n",
            "Epoch [78/200] Batch 0/1875                       Loss D: 0.6419, loss G: 0.9702\n",
            "Epoch [79/200] Batch 0/1875                       Loss D: 0.5680, loss G: 1.0068\n",
            "Epoch [80/200] Batch 0/1875                       Loss D: 0.6685, loss G: 0.8903\n",
            "Epoch [81/200] Batch 0/1875                       Loss D: 0.5640, loss G: 0.9375\n",
            "Epoch [82/200] Batch 0/1875                       Loss D: 0.5587, loss G: 1.0654\n",
            "Epoch [83/200] Batch 0/1875                       Loss D: 0.6318, loss G: 0.8783\n",
            "Epoch [84/200] Batch 0/1875                       Loss D: 0.6389, loss G: 1.2196\n",
            "Epoch [85/200] Batch 0/1875                       Loss D: 0.6563, loss G: 0.8714\n",
            "Epoch [86/200] Batch 0/1875                       Loss D: 0.7009, loss G: 0.8175\n",
            "Epoch [87/200] Batch 0/1875                       Loss D: 0.5671, loss G: 1.2504\n",
            "Epoch [88/200] Batch 0/1875                       Loss D: 0.5886, loss G: 0.9217\n",
            "Epoch [89/200] Batch 0/1875                       Loss D: 0.7009, loss G: 0.8418\n",
            "Epoch [90/200] Batch 0/1875                       Loss D: 0.6441, loss G: 1.0227\n",
            "Epoch [91/200] Batch 0/1875                       Loss D: 0.6971, loss G: 0.7894\n",
            "Epoch [92/200] Batch 0/1875                       Loss D: 0.6757, loss G: 0.9707\n",
            "Epoch [93/200] Batch 0/1875                       Loss D: 0.5569, loss G: 1.0685\n",
            "Epoch [94/200] Batch 0/1875                       Loss D: 0.5685, loss G: 0.8136\n",
            "Epoch [95/200] Batch 0/1875                       Loss D: 0.5724, loss G: 0.9581\n",
            "Epoch [96/200] Batch 0/1875                       Loss D: 0.5604, loss G: 1.1874\n",
            "Epoch [97/200] Batch 0/1875                       Loss D: 0.5629, loss G: 0.9661\n",
            "Epoch [98/200] Batch 0/1875                       Loss D: 0.6217, loss G: 0.9359\n",
            "Epoch [99/200] Batch 0/1875                       Loss D: 0.6151, loss G: 1.0223\n",
            "Epoch [100/200] Batch 0/1875                       Loss D: 0.5918, loss G: 0.9759\n",
            "Epoch [101/200] Batch 0/1875                       Loss D: 0.6894, loss G: 0.8662\n",
            "Epoch [102/200] Batch 0/1875                       Loss D: 0.6355, loss G: 0.9144\n",
            "Epoch [103/200] Batch 0/1875                       Loss D: 0.6069, loss G: 1.2901\n",
            "Epoch [104/200] Batch 0/1875                       Loss D: 0.6196, loss G: 1.0080\n",
            "Epoch [105/200] Batch 0/1875                       Loss D: 0.6059, loss G: 1.1353\n",
            "Epoch [106/200] Batch 0/1875                       Loss D: 0.5963, loss G: 0.9245\n",
            "Epoch [107/200] Batch 0/1875                       Loss D: 0.5882, loss G: 1.0163\n",
            "Epoch [108/200] Batch 0/1875                       Loss D: 0.6055, loss G: 1.0391\n",
            "Epoch [109/200] Batch 0/1875                       Loss D: 0.6293, loss G: 0.9468\n",
            "Epoch [110/200] Batch 0/1875                       Loss D: 0.6166, loss G: 0.9543\n",
            "Epoch [111/200] Batch 0/1875                       Loss D: 0.5910, loss G: 0.8923\n",
            "Epoch [112/200] Batch 0/1875                       Loss D: 0.6159, loss G: 0.9163\n",
            "Epoch [113/200] Batch 0/1875                       Loss D: 0.5387, loss G: 1.0794\n",
            "Epoch [114/200] Batch 0/1875                       Loss D: 0.5944, loss G: 1.2334\n",
            "Epoch [115/200] Batch 0/1875                       Loss D: 0.6577, loss G: 0.8953\n",
            "Epoch [116/200] Batch 0/1875                       Loss D: 0.6061, loss G: 1.1327\n",
            "Epoch [117/200] Batch 0/1875                       Loss D: 0.5463, loss G: 1.1845\n",
            "Epoch [118/200] Batch 0/1875                       Loss D: 0.6391, loss G: 1.0517\n",
            "Epoch [119/200] Batch 0/1875                       Loss D: 0.6720, loss G: 1.0553\n",
            "Epoch [120/200] Batch 0/1875                       Loss D: 0.4879, loss G: 1.1491\n",
            "Epoch [121/200] Batch 0/1875                       Loss D: 0.5618, loss G: 1.0464\n",
            "Epoch [122/200] Batch 0/1875                       Loss D: 0.5821, loss G: 0.9389\n",
            "Epoch [123/200] Batch 0/1875                       Loss D: 0.4802, loss G: 1.2249\n",
            "Epoch [124/200] Batch 0/1875                       Loss D: 0.6709, loss G: 0.9622\n",
            "Epoch [125/200] Batch 0/1875                       Loss D: 0.5728, loss G: 1.1973\n",
            "Epoch [126/200] Batch 0/1875                       Loss D: 0.5189, loss G: 1.1076\n",
            "Epoch [127/200] Batch 0/1875                       Loss D: 0.5573, loss G: 0.9778\n",
            "Epoch [128/200] Batch 0/1875                       Loss D: 0.5572, loss G: 0.8495\n",
            "Epoch [129/200] Batch 0/1875                       Loss D: 0.5876, loss G: 1.0264\n",
            "Epoch [130/200] Batch 0/1875                       Loss D: 0.5635, loss G: 1.1253\n",
            "Epoch [131/200] Batch 0/1875                       Loss D: 0.5525, loss G: 1.2864\n",
            "Epoch [132/200] Batch 0/1875                       Loss D: 0.6261, loss G: 0.8563\n",
            "Epoch [133/200] Batch 0/1875                       Loss D: 0.5722, loss G: 1.2090\n",
            "Epoch [134/200] Batch 0/1875                       Loss D: 0.4790, loss G: 1.4276\n",
            "Epoch [135/200] Batch 0/1875                       Loss D: 0.6091, loss G: 1.2703\n",
            "Epoch [136/200] Batch 0/1875                       Loss D: 0.7019, loss G: 1.0579\n",
            "Epoch [137/200] Batch 0/1875                       Loss D: 0.5806, loss G: 1.2647\n",
            "Epoch [138/200] Batch 0/1875                       Loss D: 0.5080, loss G: 1.2324\n",
            "Epoch [139/200] Batch 0/1875                       Loss D: 0.6250, loss G: 1.0794\n",
            "Epoch [140/200] Batch 0/1875                       Loss D: 0.6112, loss G: 0.9427\n",
            "Epoch [141/200] Batch 0/1875                       Loss D: 0.5737, loss G: 1.2382\n",
            "Epoch [142/200] Batch 0/1875                       Loss D: 0.5447, loss G: 1.1259\n",
            "Epoch [143/200] Batch 0/1875                       Loss D: 0.6336, loss G: 1.1457\n",
            "Epoch [144/200] Batch 0/1875                       Loss D: 0.6545, loss G: 0.7968\n",
            "Epoch [145/200] Batch 0/1875                       Loss D: 0.5646, loss G: 1.1382\n",
            "Epoch [146/200] Batch 0/1875                       Loss D: 0.6288, loss G: 0.9810\n",
            "Epoch [147/200] Batch 0/1875                       Loss D: 0.6410, loss G: 0.9486\n",
            "Epoch [148/200] Batch 0/1875                       Loss D: 0.5615, loss G: 1.0771\n",
            "Epoch [149/200] Batch 0/1875                       Loss D: 0.5987, loss G: 1.0908\n",
            "Epoch [150/200] Batch 0/1875                       Loss D: 0.5316, loss G: 1.1082\n",
            "Epoch [151/200] Batch 0/1875                       Loss D: 0.5908, loss G: 1.1412\n",
            "Epoch [152/200] Batch 0/1875                       Loss D: 0.6764, loss G: 0.9085\n",
            "Epoch [153/200] Batch 0/1875                       Loss D: 0.6529, loss G: 1.0074\n",
            "Epoch [154/200] Batch 0/1875                       Loss D: 0.5428, loss G: 1.2866\n",
            "Epoch [155/200] Batch 0/1875                       Loss D: 0.5709, loss G: 1.0840\n",
            "Epoch [156/200] Batch 0/1875                       Loss D: 0.5820, loss G: 1.6422\n",
            "Epoch [157/200] Batch 0/1875                       Loss D: 0.6684, loss G: 1.1220\n",
            "Epoch [158/200] Batch 0/1875                       Loss D: 0.5753, loss G: 1.1074\n",
            "Epoch [159/200] Batch 0/1875                       Loss D: 0.4929, loss G: 1.4733\n",
            "Epoch [160/200] Batch 0/1875                       Loss D: 0.4840, loss G: 1.3454\n",
            "Epoch [161/200] Batch 0/1875                       Loss D: 0.4844, loss G: 1.2478\n",
            "Epoch [162/200] Batch 0/1875                       Loss D: 0.5730, loss G: 1.3731\n",
            "Epoch [163/200] Batch 0/1875                       Loss D: 0.5922, loss G: 0.9598\n",
            "Epoch [164/200] Batch 0/1875                       Loss D: 0.5492, loss G: 1.2865\n",
            "Epoch [165/200] Batch 0/1875                       Loss D: 0.6423, loss G: 1.0128\n",
            "Epoch [166/200] Batch 0/1875                       Loss D: 0.6472, loss G: 1.2923\n",
            "Epoch [167/200] Batch 0/1875                       Loss D: 0.4900, loss G: 1.1574\n",
            "Epoch [168/200] Batch 0/1875                       Loss D: 0.6134, loss G: 1.1757\n",
            "Epoch [169/200] Batch 0/1875                       Loss D: 0.5061, loss G: 1.2861\n",
            "Epoch [170/200] Batch 0/1875                       Loss D: 0.5166, loss G: 1.4133\n",
            "Epoch [171/200] Batch 0/1875                       Loss D: 0.5274, loss G: 1.1916\n",
            "Epoch [172/200] Batch 0/1875                       Loss D: 0.5599, loss G: 1.3208\n",
            "Epoch [173/200] Batch 0/1875                       Loss D: 0.7076, loss G: 0.8633\n",
            "Epoch [174/200] Batch 0/1875                       Loss D: 0.6952, loss G: 1.0622\n",
            "Epoch [175/200] Batch 0/1875                       Loss D: 0.5561, loss G: 1.0928\n",
            "Epoch [176/200] Batch 0/1875                       Loss D: 0.5557, loss G: 1.1157\n",
            "Epoch [177/200] Batch 0/1875                       Loss D: 0.5853, loss G: 0.9986\n",
            "Epoch [178/200] Batch 0/1875                       Loss D: 0.5534, loss G: 1.3791\n",
            "Epoch [179/200] Batch 0/1875                       Loss D: 0.5338, loss G: 1.1823\n",
            "Epoch [180/200] Batch 0/1875                       Loss D: 0.5078, loss G: 1.3096\n",
            "Epoch [181/200] Batch 0/1875                       Loss D: 0.6596, loss G: 1.0444\n",
            "Epoch [182/200] Batch 0/1875                       Loss D: 0.6017, loss G: 1.0149\n",
            "Epoch [183/200] Batch 0/1875                       Loss D: 0.5522, loss G: 1.1573\n",
            "Epoch [184/200] Batch 0/1875                       Loss D: 0.5967, loss G: 1.3445\n",
            "Epoch [185/200] Batch 0/1875                       Loss D: 0.6674, loss G: 0.8946\n",
            "Epoch [186/200] Batch 0/1875                       Loss D: 0.5519, loss G: 0.7948\n",
            "Epoch [187/200] Batch 0/1875                       Loss D: 0.5319, loss G: 1.4145\n",
            "Epoch [188/200] Batch 0/1875                       Loss D: 0.6081, loss G: 0.8043\n",
            "Epoch [189/200] Batch 0/1875                       Loss D: 0.6393, loss G: 1.0715\n",
            "Epoch [190/200] Batch 0/1875                       Loss D: 0.6484, loss G: 0.8319\n",
            "Epoch [191/200] Batch 0/1875                       Loss D: 0.6448, loss G: 1.2781\n",
            "Epoch [192/200] Batch 0/1875                       Loss D: 0.6111, loss G: 1.0186\n",
            "Epoch [193/200] Batch 0/1875                       Loss D: 0.5194, loss G: 1.2590\n",
            "Epoch [194/200] Batch 0/1875                       Loss D: 0.5555, loss G: 0.9534\n",
            "Epoch [195/200] Batch 0/1875                       Loss D: 0.5359, loss G: 1.2093\n",
            "Epoch [196/200] Batch 0/1875                       Loss D: 0.5455, loss G: 1.2700\n",
            "Epoch [197/200] Batch 0/1875                       Loss D: 0.5258, loss G: 1.2957\n",
            "Epoch [198/200] Batch 0/1875                       Loss D: 0.6978, loss G: 0.9758\n",
            "Epoch [199/200] Batch 0/1875                       Loss D: 0.5420, loss G: 1.2561\n"
          ]
        }
      ],
      "source": [
        "step = 0\n",
        "list_lossg=[]\n",
        "list_lossd=[]\n",
        "\n",
        "for epoch in range(num_epochs):\n",
        "    for batch_idx, (real, _) in enumerate(loader):\n",
        "        real = real.view(-1, 784).to(device)\n",
        "        batch_size = real.shape[0]\n",
        "\n",
        "        ### Train Discriminator: max log(D(x)) + log(1 - D(G(z)))\n",
        "        noise = torch.randn(batch_size, z_dim).to(device)\n",
        "        fake = gen(noise)\n",
        "        disc_real = disc(real).view(-1)\n",
        "        lossD_real = criterion(disc_real, torch.ones_like(disc_real))\n",
        "        disc_fake = disc(fake).view(-1)\n",
        "        lossD_fake = criterion(disc_fake, torch.zeros_like(disc_fake))\n",
        "        lossD = (lossD_real + lossD_fake) / 2\n",
        "        disc.zero_grad()\n",
        "        lossD.backward(retain_graph=True)\n",
        "        opt_disc.step()\n",
        "\n",
        "        ### Train Generator: min log(1 - D(G(z))) <-> max log(D(G(z))\n",
        "        # where the second option of maximizing doesn't suffer from\n",
        "        # saturating gradients\n",
        "        output = disc(fake).view(-1)\n",
        "        lossG = criterion(output, torch.ones_like(output))\n",
        "        gen.zero_grad()\n",
        "        lossG.backward()\n",
        "        opt_gen.step()\n",
        "\n",
        "        # Append losses to the lists\n",
        "        list_lossd.append(lossD.item())\n",
        "        list_lossg.append(lossG.item())\n",
        "\n",
        "        if batch_idx == 0:\n",
        "            print(\n",
        "                f\"Epoch [{epoch}/{num_epochs}] Batch {batch_idx}/{len(loader)} \\\n",
        "                      Loss D: {lossD:.4f}, loss G: {lossG:.4f}\"\n",
        "            )\n",
        "\n",
        "            with torch.no_grad():\n",
        "                fake = gen(fixed_noise).reshape(-1, 1, 28, 28)\n",
        "                data = real.reshape(-1, 1, 28, 28)\n",
        "                img_grid_fake = torchvision.utils.make_grid(fake, normalize=True)\n",
        "                img_grid_real = torchvision.utils.make_grid(data, normalize=True)\n",
        "\n",
        "                writer_fake.add_image(\n",
        "                    \"Mnist Fake Images\", img_grid_fake, global_step=step\n",
        "                )\n",
        "                writer_real.add_image(\n",
        "                    \"Mnist Real Images\", img_grid_real, global_step=step\n",
        "                )\n",
        "                step += 1"
      ]
    },
    {
      "cell_type": "code",
      "source": [
        "import matplotlib.pyplot as plt\n",
        "\n",
        "# Plot the losses\n",
        "plt.plot(list_lossd, label='Critic Loss')\n",
        "plt.plot(list_lossg, label='Generator Loss')\n",
        "plt.xlabel('Iterations')\n",
        "plt.ylabel('Loss')\n",
        "plt.title('GAN Training Loss')\n",
        "plt.legend()\n",
        "plt.show()"
      ],
      "metadata": {
        "colab": {
          "base_uri": "https://localhost:8080/",
          "height": 472
        },
        "id": "l775PUVbS9MB",
        "outputId": "55ad54a4-0bda-479e-8c75-9f8d903be421"
      },
      "execution_count": 8,
      "outputs": [
        {
          "output_type": "display_data",
          "data": {
            "text/plain": [
              "<Figure size 640x480 with 1 Axes>"
            ],
            "image/png": "[encoded data removed]"
          },
          "metadata": {}
        }
      ]
    },
    {
      "cell_type": "code",
      "execution_count": null,
      "metadata": {
        "id": "9NrxK-avR1OB"
      },
      "outputs": [],
      "source": [
        "import shutil\n",
        "\n",
        "# Define la ruta de la carpeta que quieres mover desde Google Colab\n",
        "ruta_carpeta_colab = '/content/logsFC'\n",
        "\n",
        "# Define la ruta de destino en tu Google Drive\n",
        "ruta_destino_drive = '/content/drive/My Drive/GANS/'\n",
        "\n",
        "# Mueve la carpeta a tu Google Drive\n",
        "shutil.move(ruta_carpeta_colab, ruta_destino_drive)"
      ]
    },
    {
      "cell_type": "code",
      "source": [],
      "metadata": {
        "id": "Kv5uH6F7SReo"
      },
      "execution_count": null,
      "outputs": []
    }
  ],
  "metadata": {
    "language_info": {
      "name": "python"
    },
    "colab": {
      "provenance": [],
      "gpuType": "T4",
      "include_colab_link": true
    },
    "accelerator": "GPU",
    "kernelspec": {
      "name": "python3",
      "display_name": "Python 3"
    }
  },
  "nbformat": 4,
  "nbformat_minor": 0
}